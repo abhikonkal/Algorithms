{
  "nbformat": 4,
  "nbformat_minor": 0,
  "metadata": {
    "colab": {
      "provenance": [],
      "authorship_tag": "ABX9TyNM3W/HvtBleCbGFm4R5OaD",
      "include_colab_link": true
    },
    "kernelspec": {
      "name": "python3",
      "display_name": "Python 3"
    },
    "language_info": {
      "name": "python"
    }
  },
  "cells": [
    {
      "cell_type": "markdown",
      "metadata": {
        "id": "view-in-github",
        "colab_type": "text"
      },
      "source": [
        "<a href=\"https://colab.research.google.com/github/abhikonkal/Algorithms/blob/main/Data_Structures.ipynb\" target=\"_parent\"><img src=\"https://colab.research.google.com/assets/colab-badge.svg\" alt=\"Open In Colab\"/></a>"
      ]
    },
    {
      "cell_type": "markdown",
      "source": [
        "##STACK IMPLEMENTATION"
      ],
      "metadata": {
        "id": "rIRqr5IO6FO8"
      }
    },
    {
      "cell_type": "code",
      "source": [
        "class Stack():\n",
        "  def __init__(self,size):\n",
        "    self.size=size\n",
        "    self.stack=size*[None]\n",
        "    self.top=-1\n",
        "    self.show()\n",
        "  \n",
        "  def push(self,a):\n",
        "    if (self.top!=self.size-1):\n",
        "      self.top+=1\n",
        "      self.stack[self.top]=a\n",
        "    else:\n",
        "      print('Stack Full')\n",
        "  \n",
        "  def pop(self):\n",
        "    if(self.top==-1):\n",
        "      print('Stack is Empty')\n",
        "    else:\n",
        "      self.stack[self.top]=None\n",
        "      self.top-=1\n",
        "\n",
        "  def show(self):\n",
        "    print('Stack : ',self.stack)\n",
        "\n",
        "\n"
      ],
      "metadata": {
        "id": "wYZnEkaW6Ii1"
      },
      "execution_count": null,
      "outputs": []
    },
    {
      "cell_type": "code",
      "source": [
        "s=Stack(5)"
      ],
      "metadata": {
        "colab": {
          "base_uri": "https://localhost:8080/"
        },
        "id": "dzZL3QpV6Mnm",
        "outputId": "90cd9750-f4f9-4c33-942a-9f6f04389db3"
      },
      "execution_count": null,
      "outputs": [
        {
          "output_type": "stream",
          "name": "stdout",
          "text": [
            "Stack :  [0, 0, 0, 0, 0]\n"
          ]
        }
      ]
    },
    {
      "cell_type": "code",
      "source": [
        "s.push(1)"
      ],
      "metadata": {
        "id": "NET-po1T7U2I"
      },
      "execution_count": null,
      "outputs": []
    },
    {
      "cell_type": "code",
      "source": [
        "s.show()"
      ],
      "metadata": {
        "colab": {
          "base_uri": "https://localhost:8080/"
        },
        "id": "dLTCWIIz7e28",
        "outputId": "3910640e-803d-4ad4-9942-e521b21e8af3"
      },
      "execution_count": null,
      "outputs": [
        {
          "output_type": "stream",
          "name": "stdout",
          "text": [
            "Stack :  [0, 0, 0, 0, 0]\n"
          ]
        }
      ]
    },
    {
      "cell_type": "code",
      "source": [
        "s.pop()"
      ],
      "metadata": {
        "colab": {
          "base_uri": "https://localhost:8080/"
        },
        "id": "6xD19Z_97-wH",
        "outputId": "5d74c97f-e38a-4a77-fa7f-c97b159c768c"
      },
      "execution_count": null,
      "outputs": [
        {
          "output_type": "stream",
          "name": "stdout",
          "text": [
            "Stack is Empty\n"
          ]
        }
      ]
    },
    {
      "cell_type": "code",
      "source": [],
      "metadata": {
        "id": "onZINH3H8GEc"
      },
      "execution_count": null,
      "outputs": []
    },
    {
      "cell_type": "markdown",
      "source": [
        "#QUEUE IMPLEMENTATION"
      ],
      "metadata": {
        "id": "H3xWmhqBnM0S"
      }
    },
    {
      "cell_type": "code",
      "source": [
        "class Queue():\n",
        "  def __init__(self,val):\n",
        "    self.size=val\n",
        "    self.queue=[None]*self.size\n",
        "    self.front=0 #for deletion\n",
        "    self.rear=0 #for insertion\n",
        "\n",
        "  def enque(self,val):\n",
        "    if self.rear==self.size:\n",
        "      print('Queue is Full')\n",
        "    else:\n",
        "      self.queue[self.rear]=val\n",
        "      self.rear+=1\n",
        "  \n",
        "  def deque(self):\n",
        "    if self.front==self.rear:\n",
        "      print('Queue is empty')\n",
        "    else:\n",
        "      print('Deque element :',self.queue[self.front])\n",
        "      self.queue[self.front]=None\n",
        "      self.front+=1\n",
        "\n",
        "  def printqueue(self):\n",
        "    print('Queue : ',self.queue)\n",
        "\n"
      ],
      "metadata": {
        "id": "gn1q3JX2nMTC"
      },
      "execution_count": null,
      "outputs": []
    },
    {
      "cell_type": "code",
      "source": [
        "q=Queue(10)\n",
        "for i in range(0,5):\n",
        "  q.enque(i)\n",
        "q.printqueue()"
      ],
      "metadata": {
        "colab": {
          "base_uri": "https://localhost:8080/"
        },
        "id": "3ze5r6tipSEM",
        "outputId": "1610155f-1583-4fe5-9694-217cd974d37a"
      },
      "execution_count": null,
      "outputs": [
        {
          "output_type": "stream",
          "name": "stdout",
          "text": [
            "Queue :  [0, 1, 2, 3, 4, None, None, None, None, None]\n"
          ]
        }
      ]
    },
    {
      "cell_type": "code",
      "source": [
        "for i in range(0,3):\n",
        "  q.deque()\n",
        "q.printqueue()"
      ],
      "metadata": {
        "colab": {
          "base_uri": "https://localhost:8080/"
        },
        "id": "Hr9mOJTkpSBg",
        "outputId": "9184dbb1-340b-462e-cb46-c89fe1fff1ea"
      },
      "execution_count": null,
      "outputs": [
        {
          "output_type": "stream",
          "name": "stdout",
          "text": [
            "Deque element : 0\n",
            "Deque element : 1\n",
            "Deque element : 2\n",
            "Queue :  [None, None, None, 3, 4, None, None, None, None, None]\n"
          ]
        }
      ]
    },
    {
      "cell_type": "code",
      "source": [
        "q.enque(7)"
      ],
      "metadata": {
        "id": "Vhb7Kho5pR_L"
      },
      "execution_count": null,
      "outputs": []
    },
    {
      "cell_type": "code",
      "source": [
        "q.printqueue()"
      ],
      "metadata": {
        "colab": {
          "base_uri": "https://localhost:8080/"
        },
        "id": "-7ki2NxtpR4t",
        "outputId": "81f304dd-b239-4c62-ca4d-453fa05071f1"
      },
      "execution_count": null,
      "outputs": [
        {
          "output_type": "stream",
          "name": "stdout",
          "text": [
            "Queue :  [None, None, None, 3, 4, 7, None, None, None, None]\n"
          ]
        }
      ]
    },
    {
      "cell_type": "markdown",
      "source": [
        "##  Linked List Implementation"
      ],
      "metadata": {
        "id": "_3mMzeOz94zv"
      }
    },
    {
      "cell_type": "code",
      "source": [
        "class Node:\n",
        "  def __init__(self,val):\n",
        "    self.data=val\n",
        "    self.next=None\n"
      ],
      "metadata": {
        "id": "mIwlMnV_-jNf"
      },
      "execution_count": null,
      "outputs": []
    },
    {
      "cell_type": "code",
      "source": [
        "class linkedlist():\n",
        "  def __init__(self):\n",
        "    self.head=None\n",
        "\n",
        "  def insertathead(self,val):\n",
        "    newnode=Node(val)\n",
        "    newnode.next=self.head\n",
        "    self.head=newnode\n",
        "\n",
        "\n",
        "  def insertatlast(self,val):\n",
        "    newnode=Node(val)\n",
        "    newnode.next=None\n",
        "    if(self.head==None):\n",
        "      self.head=newnode\n",
        "    else:\n",
        "      tmp=self.head\n",
        "      while(tmp.next!=None):\n",
        "        tmp=tmp.next\n",
        "      tmp.next=newnode\n",
        "    \n",
        "  def deleteoneatstart(self):\n",
        "    next=self.head.next\n",
        "    self.head=next\n",
        "\n",
        "  def deleteoneatend(self):\n",
        "    tmp=self.head\n",
        "    while(tmp.next.next!=None):\n",
        "      tmp=tmp.next\n",
        "    tmp.next=None\n",
        "\n",
        "  def deletenodeq(self,val):\n",
        "    tmp=self.head\n",
        "    if tmp.data==val:\n",
        "      self.deleteoneatstart()\n",
        "    else:\n",
        "      while(tmp.next.data!=val):\n",
        "        tmp=tmp.next\n",
        "      s=tmp.next.next\n",
        "      tmp.next=s\n",
        "\n",
        "  def sortll(self):\n",
        "    print('Pass for now')\n",
        "      \n",
        "\n",
        "  \n",
        "  def printll(self):\n",
        "    tmp=self.head\n",
        "    while(tmp!=None):\n",
        "      print(tmp.data,'-->',end='')\n",
        "      tmp=tmp.next\n",
        "\n",
        "\n"
      ],
      "metadata": {
        "id": "WjaAqAaT-Nxc"
      },
      "execution_count": null,
      "outputs": []
    },
    {
      "cell_type": "code",
      "source": [
        "ll=linkedlist()"
      ],
      "metadata": {
        "id": "VA6jQ-mPCaOb"
      },
      "execution_count": null,
      "outputs": []
    },
    {
      "cell_type": "code",
      "source": [
        "for i in range(0,100,10):\n",
        "  ll.insertatlast(i)\n",
        "  \n",
        "for i in range(100,0,10):\n",
        "  ll.insertatlast(i)\n"
      ],
      "metadata": {
        "id": "4l3nUt11CaFK"
      },
      "execution_count": null,
      "outputs": []
    },
    {
      "cell_type": "code",
      "source": [
        "ll.printll()"
      ],
      "metadata": {
        "id": "0JPaiT0ICZ-j",
        "colab": {
          "base_uri": "https://localhost:8080/"
        },
        "outputId": "b1579f01-5ccf-4ea3-b176-92f29e90238d"
      },
      "execution_count": null,
      "outputs": [
        {
          "output_type": "stream",
          "name": "stdout",
          "text": [
            "0 -->10 -->20 -->30 -->40 -->50 -->60 -->70 -->80 -->90 -->"
          ]
        }
      ]
    },
    {
      "cell_type": "code",
      "source": [
        "ll.deleteoneatstart()\n",
        "ll.deleteoneatend()"
      ],
      "metadata": {
        "id": "9ZZMa63YdNsG"
      },
      "execution_count": null,
      "outputs": []
    },
    {
      "cell_type": "code",
      "source": [
        "ll.printll()"
      ],
      "metadata": {
        "colab": {
          "base_uri": "https://localhost:8080/"
        },
        "id": "y5HE1hAwTgzt",
        "outputId": "546d0ff0-b493-4e10-90af-762242da9d6c"
      },
      "execution_count": null,
      "outputs": [
        {
          "output_type": "stream",
          "name": "stdout",
          "text": [
            "10 -->20 -->30 -->40 -->50 -->60 -->70 -->80 -->"
          ]
        }
      ]
    },
    {
      "cell_type": "code",
      "source": [
        "ll.deletenodeq(10)\n",
        "ll.printll()"
      ],
      "metadata": {
        "colab": {
          "base_uri": "https://localhost:8080/"
        },
        "id": "GtlzD-EmTnde",
        "outputId": "98a68f4a-3821-442c-9a44-e0e4d58fa069"
      },
      "execution_count": null,
      "outputs": [
        {
          "output_type": "stream",
          "name": "stdout",
          "text": [
            "20 -->30 -->40 -->50 -->60 -->70 -->80 -->"
          ]
        }
      ]
    },
    {
      "cell_type": "code",
      "source": [
        "class Node2:\n",
        "  def __init__(self,data):\n",
        "    self.data=data\n",
        "    self.prev=None\n",
        "    self.next=None"
      ],
      "metadata": {
        "id": "3FVio-zrYRG4"
      },
      "execution_count": null,
      "outputs": []
    },
    {
      "cell_type": "code",
      "source": [
        "class doublelinkedlist():\n",
        "  def __init__(self):\n",
        "    self.head=None\n",
        "\n",
        "  def insertatbegin(self,val):\n",
        "    newnode=Node2(val)\n",
        "    if self.head==None:\n",
        "      self.head=newnode\n",
        "    else:\n",
        "      self.head.prev=newnode\n",
        "      newnode.next=self.head\n",
        "      self.head=newnode\n",
        "\n",
        "  def insertatlast(self,val):\n",
        "    newnode=Node2(val)\n",
        "    if self.head==None:\n",
        "      self.head=newnode\n",
        "    else:\n",
        "      tmp=self.head\n",
        "      while(tmp.next!=None):\n",
        "        tmp=tmp.next\n",
        "      tmp.next=newnode\n",
        "      newnode.prev=tmp\n",
        "\n",
        "  def printdl(self):\n",
        "    tmp=self.head\n",
        "    while(tmp.next!=None):\n",
        "      print(tmp.data,'-->',end='')\n",
        "      tmp=tmp.next\n",
        "    print(tmp.data,'-->',end='')\n",
        "    print('\\nbackward')\n",
        "    while(tmp!=None):\n",
        "      print(tmp.data,'-->',end='')\n",
        "      tmp=tmp.prev\n",
        "\n",
        "  def deleteoneatstart(self):\n",
        "    if self.head==None:\n",
        "      print('List empty')\n",
        "    elif self.head.next==None:\n",
        "      self.head=None\n",
        "    else:\n",
        "      self.head.next.prev=None\n",
        "      self.head=self.head.next\n",
        "\n",
        "  def deletenodeq(self,val):\n",
        "    if self.head.data==val:\n",
        "      self.deleteoneatstart()\n",
        "    else:\n",
        "      tmp=self.head\n",
        "      while(tmp.data!=val):\n",
        "        tmp=tmp.next\n",
        "      tmp.prev.next=tmp.next\n",
        "      if tmp.next!=None:\n",
        "        tmp.next.prev=tmp.prev\n",
        "      \n",
        "\n",
        "\n",
        "\n",
        "\n",
        "      \n",
        "      \n",
        "        "
      ],
      "metadata": {
        "id": "pSFz8gvJW3yO"
      },
      "execution_count": null,
      "outputs": []
    },
    {
      "cell_type": "code",
      "source": [
        "dl=doublelinkedlist()"
      ],
      "metadata": {
        "id": "2tI8KO7E7mjq"
      },
      "execution_count": null,
      "outputs": []
    },
    {
      "cell_type": "code",
      "source": [
        "for i in range(0,100,10):\n",
        "  dl.insertatbegin(i)"
      ],
      "metadata": {
        "id": "v_rvsw8z8TpS"
      },
      "execution_count": null,
      "outputs": []
    },
    {
      "cell_type": "code",
      "source": [
        "for i in range(0,100,10):\n",
        "  dl.insertatlast(i)"
      ],
      "metadata": {
        "id": "joC5ofZy-oea"
      },
      "execution_count": null,
      "outputs": []
    },
    {
      "cell_type": "code",
      "source": [
        "for i in range(0,10):\n",
        "  dl.deleteoneatstart()"
      ],
      "metadata": {
        "id": "XYd6iEEH_gcs"
      },
      "execution_count": null,
      "outputs": []
    },
    {
      "cell_type": "code",
      "source": [
        "dl.printdl()"
      ],
      "metadata": {
        "colab": {
          "base_uri": "https://localhost:8080/"
        },
        "id": "t-VqDum-8bbS",
        "outputId": "b84cb92f-e096-4f02-d0a9-bcf94df90ef5"
      },
      "execution_count": null,
      "outputs": [
        {
          "output_type": "stream",
          "name": "stdout",
          "text": [
            "0 -->10 -->20 -->30 -->40 -->50 -->60 -->70 -->80 -->90 -->\n",
            "backward\n",
            "90 -->80 -->70 -->60 -->50 -->40 -->30 -->20 -->10 -->0 -->"
          ]
        }
      ]
    },
    {
      "cell_type": "code",
      "source": [
        "dl.deletenodeq(90)\n",
        "dl.printdl()"
      ],
      "metadata": {
        "colab": {
          "base_uri": "https://localhost:8080/"
        },
        "id": "Wi6SfXA687Bv",
        "outputId": "c20c7ea9-8a34-4ff1-a62c-e4b8992a0baa"
      },
      "execution_count": null,
      "outputs": [
        {
          "output_type": "stream",
          "name": "stdout",
          "text": [
            "0 -->10 -->20 -->30 -->40 -->50 -->60 -->70 -->80 -->\n",
            "backward\n",
            "80 -->70 -->60 -->50 -->40 -->30 -->20 -->10 -->0 -->"
          ]
        }
      ]
    },
    {
      "cell_type": "markdown",
      "source": [
        "##Binary Search Tree Implementation"
      ],
      "metadata": {
        "id": "B8gKdhEqlkiE"
      }
    },
    {
      "cell_type": "code",
      "source": [
        "class Treenode():\n",
        "  def __init__(self,val):\n",
        "    self.data=val\n",
        "    self.right=None\n",
        "    self.left=None\n",
        "    "
      ],
      "metadata": {
        "id": "jOgkaGnpB9m5"
      },
      "execution_count": 1,
      "outputs": []
    },
    {
      "cell_type": "code",
      "source": [
        "class BST():\n",
        "  def __init__(self):\n",
        "    self.root=None\n",
        "\n",
        "  def insert(self,val):\n",
        "    if self.root==None:\n",
        "      self.root=Treenode(val)\n",
        "    else:\n",
        "      self._insertbst(self.get_root(),val)\n",
        "\n",
        "  def get_root(self):\n",
        "    return self.root\n",
        "  \n",
        "  def _insertbst(self,root,val):\n",
        "    if root==None:\n",
        "      root=Treenode(val)\n",
        "    elif root.data<val:\n",
        "      root.right=self._insertbst(root.right,val)\n",
        "    elif root.data>val:\n",
        "      root.left=self._insertbst(root.left,val)\n",
        "    return root\n",
        "\n",
        "  def inorder(self):\n",
        "    self._inorderbst(self.get_root())\n",
        "\n",
        "  def _inorderbst(self,root):\n",
        "    if root==None:\n",
        "      return\n",
        "    else:\n",
        "      self._inorderbst(root.left)\n",
        "      print(root.data,'-',end='')\n",
        "      self._inorderbst(root.right)\n",
        "\n",
        "  def searchnode(self,val):\n",
        "    if self.root.data==val:\n",
        "      print('Found return ')\n",
        "      return 1\n",
        "    else:\n",
        "      self._searchbst(self.get_root(),val)\n",
        "\n",
        "  def _searchbst(self,root,val):\n",
        "    if root==None:\n",
        "      print('Not Found in Tree')\n",
        "      return 0\n",
        "    elif root.data==val:\n",
        "      print('Found the val')\n",
        "      return 1\n",
        "    elif root.data>val:\n",
        "      self._searchbst(root.left,val)\n",
        "    else:\n",
        "      self._searchbst(root.right,val)\n",
        "\n",
        "\n",
        "  #deletion functions\n",
        "\n",
        "\n",
        "  def deletenode(self,val):\n",
        "    if self.root==None:\n",
        "      print('Tree is empty')\n",
        "    else:\n",
        "      self.root=self.__removeNode(self.get_root(),val)\n",
        "\n",
        "  def __removeNode(self,root, val):\n",
        "    if root == None:\n",
        "        return None\n",
        "    if root.data < val:\n",
        "        root.right = self.__removeNode(root.right, val)\n",
        "    elif root.data > val:\n",
        "        root.left = self.__removeNode(root.left, val)\n",
        "    else:\n",
        "        if root.left == None and root.right == None:\n",
        "            return None\n",
        "        elif root.left == None:\n",
        "            return root.right\n",
        "        elif root.right == None:\n",
        "            return root.left\n",
        "        else:\n",
        "            rightMin = self.__getRightMin(root.right)\n",
        "            root.data = rightMin\n",
        "            root.right = self.__removeNode(root.right, rightMin)\n",
        "    return root\n",
        "\n",
        "  def __getRightMin(self,root):\n",
        "      temp = root\n",
        "\n",
        "      while temp.left != None:\n",
        "          temp = temp.left\n",
        "      \n",
        "      return temp.data\n",
        "\n",
        "    "
      ],
      "metadata": {
        "id": "Xu0V58bIqPju"
      },
      "execution_count": 105,
      "outputs": []
    },
    {
      "cell_type": "code",
      "source": [
        "import random\n",
        "random.seed(42)\n",
        "v=[]\n",
        "for i in range(0,10):\n",
        "  v.append(random.randint(0,100))"
      ],
      "metadata": {
        "id": "kIiYo9oVtkQl"
      },
      "execution_count": 106,
      "outputs": []
    },
    {
      "cell_type": "code",
      "source": [
        "v"
      ],
      "metadata": {
        "colab": {
          "base_uri": "https://localhost:8080/"
        },
        "id": "wrdNWeSV3aBU",
        "outputId": "7123368e-27e6-461e-f9bd-e6757dc7006c"
      },
      "execution_count": 107,
      "outputs": [
        {
          "output_type": "execute_result",
          "data": {
            "text/plain": [
              "[81, 14, 3, 94, 35, 31, 28, 17, 94, 13]"
            ]
          },
          "metadata": {},
          "execution_count": 107
        }
      ]
    },
    {
      "cell_type": "code",
      "source": [
        "bst=BST()\n",
        "for i in v:\n",
        "  bst.insert(i)\n",
        "bst.insert(45)"
      ],
      "metadata": {
        "id": "Hbx0z2H15Ngk"
      },
      "execution_count": 108,
      "outputs": []
    },
    {
      "cell_type": "code",
      "source": [
        "bst.inorder()"
      ],
      "metadata": {
        "colab": {
          "base_uri": "https://localhost:8080/"
        },
        "id": "Bl7EEQzZ5Zik",
        "outputId": "06553d57-14dc-4bd9-cec2-7ee82d69807a"
      },
      "execution_count": 109,
      "outputs": [
        {
          "output_type": "stream",
          "name": "stdout",
          "text": [
            "3 -13 -14 -17 -28 -31 -35 -45 -81 -94 -"
          ]
        }
      ]
    },
    {
      "cell_type": "code",
      "source": [
        "j=[i for i in range(0,10)]\n",
        "\n",
        "for k in j:\n",
        "  print(k,'-->',end='')\n",
        "  bst.searchnode(k)"
      ],
      "metadata": {
        "id": "hC0zvlcE8cJj",
        "colab": {
          "base_uri": "https://localhost:8080/"
        },
        "outputId": "6087b77b-b599-494a-fb9c-14597cd90371"
      },
      "execution_count": 110,
      "outputs": [
        {
          "output_type": "stream",
          "name": "stdout",
          "text": [
            "0 -->Not Found in Tree\n",
            "1 -->Not Found in Tree\n",
            "2 -->Not Found in Tree\n",
            "3 -->Found the val\n",
            "4 -->Not Found in Tree\n",
            "5 -->Not Found in Tree\n",
            "6 -->Not Found in Tree\n",
            "7 -->Not Found in Tree\n",
            "8 -->Not Found in Tree\n",
            "9 -->Not Found in Tree\n"
          ]
        }
      ]
    },
    {
      "cell_type": "code",
      "source": [
        "bst.inorder()"
      ],
      "metadata": {
        "colab": {
          "base_uri": "https://localhost:8080/"
        },
        "id": "KpLjmhooqAss",
        "outputId": "ac537fe7-cfd8-4bd4-8f02-4210d2929fba"
      },
      "execution_count": 111,
      "outputs": [
        {
          "output_type": "stream",
          "name": "stdout",
          "text": [
            "3 -13 -14 -17 -28 -31 -35 -45 -81 -94 -"
          ]
        }
      ]
    },
    {
      "cell_type": "code",
      "source": [
        "bst.deletenode(13)"
      ],
      "metadata": {
        "id": "RT_6zHDNqHyV"
      },
      "execution_count": 112,
      "outputs": []
    },
    {
      "cell_type": "code",
      "source": [
        "bst.inorder()"
      ],
      "metadata": {
        "colab": {
          "base_uri": "https://localhost:8080/"
        },
        "id": "Ez_D9NouqkFU",
        "outputId": "b2a567fa-8fca-4514-c517-e46bf734f8e3"
      },
      "execution_count": 113,
      "outputs": [
        {
          "output_type": "stream",
          "name": "stdout",
          "text": [
            "3 -14 -17 -28 -31 -35 -45 -81 -94 -"
          ]
        }
      ]
    },
    {
      "cell_type": "code",
      "source": [
        "bst.get_root().data"
      ],
      "metadata": {
        "colab": {
          "base_uri": "https://localhost:8080/"
        },
        "id": "cdxi0JZkooNr",
        "outputId": "68cd1a1d-c441-4971-fddd-6a661299c18f"
      },
      "execution_count": 114,
      "outputs": [
        {
          "output_type": "execute_result",
          "data": {
            "text/plain": [
              "81"
            ]
          },
          "metadata": {},
          "execution_count": 114
        }
      ]
    },
    {
      "cell_type": "code",
      "source": [
        "bst.deletenode(81)"
      ],
      "metadata": {
        "id": "qF_i7t6Sqhqc"
      },
      "execution_count": 116,
      "outputs": []
    },
    {
      "cell_type": "code",
      "source": [
        "bst.inorder()"
      ],
      "metadata": {
        "colab": {
          "base_uri": "https://localhost:8080/"
        },
        "id": "zUceNE4tqlTM",
        "outputId": "c0473be2-f2b2-4433-87aa-196d9cf0d4f7"
      },
      "execution_count": 118,
      "outputs": [
        {
          "output_type": "stream",
          "name": "stdout",
          "text": [
            "3 -14 -17 -28 -31 -35 -45 -94 -"
          ]
        }
      ]
    }
  ]
}