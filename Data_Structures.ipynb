{
  "nbformat": 4,
  "nbformat_minor": 0,
  "metadata": {
    "colab": {
      "provenance": [],
      "authorship_tag": "ABX9TyNTqa6CYeQJqpm0howPz2Hq",
      "include_colab_link": true
    },
    "kernelspec": {
      "name": "python3",
      "display_name": "Python 3"
    },
    "language_info": {
      "name": "python"
    }
  },
  "cells": [
    {
      "cell_type": "markdown",
      "metadata": {
        "id": "view-in-github",
        "colab_type": "text"
      },
      "source": [
        "<a href=\"https://colab.research.google.com/github/abhikonkal/Algorithms/blob/main/Data_Structures.ipynb\" target=\"_parent\"><img src=\"https://colab.research.google.com/assets/colab-badge.svg\" alt=\"Open In Colab\"/></a>"
      ]
    },
    {
      "cell_type": "markdown",
      "source": [
        "##STACK IMPLEMENTATION"
      ],
      "metadata": {
        "id": "rIRqr5IO6FO8"
      }
    },
    {
      "cell_type": "code",
      "source": [
        "class Stack():\n",
        "  def __init__(self,size):\n",
        "    self.size=size\n",
        "    self.stack=size*[None]\n",
        "    self.top=-1\n",
        "    self.show()\n",
        "  \n",
        "  def push(self,a):\n",
        "    if (self.top!=self.size-1):\n",
        "      self.top+=1\n",
        "      self.stack[self.top]=a\n",
        "    else:\n",
        "      print('Stack Full')\n",
        "  \n",
        "  def pop(self):\n",
        "    if(self.top==-1):\n",
        "      print('Stack is Empty')\n",
        "    else:\n",
        "      self.stack[self.top]=None\n",
        "      self.top-=1\n",
        "\n",
        "  def show(self):\n",
        "    print('Stack : ',self.stack)\n",
        "\n",
        "\n"
      ],
      "metadata": {
        "id": "wYZnEkaW6Ii1"
      },
      "execution_count": null,
      "outputs": []
    },
    {
      "cell_type": "code",
      "source": [
        "s=Stack(5)"
      ],
      "metadata": {
        "colab": {
          "base_uri": "https://localhost:8080/"
        },
        "id": "dzZL3QpV6Mnm",
        "outputId": "90cd9750-f4f9-4c33-942a-9f6f04389db3"
      },
      "execution_count": null,
      "outputs": [
        {
          "output_type": "stream",
          "name": "stdout",
          "text": [
            "Stack :  [0, 0, 0, 0, 0]\n"
          ]
        }
      ]
    },
    {
      "cell_type": "code",
      "source": [
        "s.push(1)"
      ],
      "metadata": {
        "id": "NET-po1T7U2I"
      },
      "execution_count": null,
      "outputs": []
    },
    {
      "cell_type": "code",
      "source": [
        "s.show()"
      ],
      "metadata": {
        "colab": {
          "base_uri": "https://localhost:8080/"
        },
        "id": "dLTCWIIz7e28",
        "outputId": "3910640e-803d-4ad4-9942-e521b21e8af3"
      },
      "execution_count": null,
      "outputs": [
        {
          "output_type": "stream",
          "name": "stdout",
          "text": [
            "Stack :  [0, 0, 0, 0, 0]\n"
          ]
        }
      ]
    },
    {
      "cell_type": "code",
      "source": [
        "s.pop()"
      ],
      "metadata": {
        "colab": {
          "base_uri": "https://localhost:8080/"
        },
        "id": "6xD19Z_97-wH",
        "outputId": "5d74c97f-e38a-4a77-fa7f-c97b159c768c"
      },
      "execution_count": null,
      "outputs": [
        {
          "output_type": "stream",
          "name": "stdout",
          "text": [
            "Stack is Empty\n"
          ]
        }
      ]
    },
    {
      "cell_type": "code",
      "source": [],
      "metadata": {
        "id": "onZINH3H8GEc"
      },
      "execution_count": null,
      "outputs": []
    },
    {
      "cell_type": "markdown",
      "source": [
        "#QUEUE IMPLEMENTATION"
      ],
      "metadata": {
        "id": "H3xWmhqBnM0S"
      }
    },
    {
      "cell_type": "code",
      "source": [
        "class Queue():\n",
        "  def __init__(self,val):\n",
        "    self.size=val\n",
        "    self.queue=[None]*self.size\n",
        "    self.front=0 #for deletion\n",
        "    self.rear=0 #for insertion\n",
        "\n",
        "  def enque(self,val):\n",
        "    if self.rear==self.size:\n",
        "      print('Queue is Full')\n",
        "    else:\n",
        "      self.queue[self.rear]=val\n",
        "      self.rear+=1\n",
        "  \n",
        "  def deque(self):\n",
        "    if self.front==self.rear:\n",
        "      print('Queue is empty')\n",
        "    else:\n",
        "      print('Deque element :',self.queue[self.front])\n",
        "      self.queue[self.front]=None\n",
        "      self.front+=1\n",
        "\n",
        "  def printqueue(self):\n",
        "    print('Queue : ',self.queue)\n",
        "\n"
      ],
      "metadata": {
        "id": "gn1q3JX2nMTC"
      },
      "execution_count": null,
      "outputs": []
    },
    {
      "cell_type": "code",
      "source": [
        "q=Queue(10)\n",
        "for i in range(0,5):\n",
        "  q.enque(i)\n",
        "q.printqueue()"
      ],
      "metadata": {
        "colab": {
          "base_uri": "https://localhost:8080/"
        },
        "id": "3ze5r6tipSEM",
        "outputId": "1610155f-1583-4fe5-9694-217cd974d37a"
      },
      "execution_count": null,
      "outputs": [
        {
          "output_type": "stream",
          "name": "stdout",
          "text": [
            "Queue :  [0, 1, 2, 3, 4, None, None, None, None, None]\n"
          ]
        }
      ]
    },
    {
      "cell_type": "code",
      "source": [
        "for i in range(0,3):\n",
        "  q.deque()\n",
        "q.printqueue()"
      ],
      "metadata": {
        "colab": {
          "base_uri": "https://localhost:8080/"
        },
        "id": "Hr9mOJTkpSBg",
        "outputId": "9184dbb1-340b-462e-cb46-c89fe1fff1ea"
      },
      "execution_count": null,
      "outputs": [
        {
          "output_type": "stream",
          "name": "stdout",
          "text": [
            "Deque element : 0\n",
            "Deque element : 1\n",
            "Deque element : 2\n",
            "Queue :  [None, None, None, 3, 4, None, None, None, None, None]\n"
          ]
        }
      ]
    },
    {
      "cell_type": "code",
      "source": [
        "q.enque(7)"
      ],
      "metadata": {
        "id": "Vhb7Kho5pR_L"
      },
      "execution_count": null,
      "outputs": []
    },
    {
      "cell_type": "code",
      "source": [
        "q.printqueue()"
      ],
      "metadata": {
        "colab": {
          "base_uri": "https://localhost:8080/"
        },
        "id": "-7ki2NxtpR4t",
        "outputId": "81f304dd-b239-4c62-ca4d-453fa05071f1"
      },
      "execution_count": null,
      "outputs": [
        {
          "output_type": "stream",
          "name": "stdout",
          "text": [
            "Queue :  [None, None, None, 3, 4, 7, None, None, None, None]\n"
          ]
        }
      ]
    },
    {
      "cell_type": "markdown",
      "source": [
        "##  Linked List Implementation"
      ],
      "metadata": {
        "id": "_3mMzeOz94zv"
      }
    },
    {
      "cell_type": "code",
      "source": [
        "class Node:\n",
        "  def __init__(self,val):\n",
        "    self.data=val\n",
        "    self.next=None\n"
      ],
      "metadata": {
        "id": "mIwlMnV_-jNf"
      },
      "execution_count": null,
      "outputs": []
    },
    {
      "cell_type": "code",
      "source": [
        "class linkedlist():\n",
        "  def __init__(self):\n",
        "    self.head=None\n",
        "\n",
        "  def insertathead(self,val):\n",
        "    newnode=Node(val)\n",
        "    newnode.next=self.head\n",
        "    self.head=newnode\n",
        "\n",
        "\n",
        "  def insertatlast(self,val):\n",
        "    newnode=Node(val)\n",
        "    newnode.next=None\n",
        "    if(self.head==None):\n",
        "      self.head=newnode\n",
        "    else:\n",
        "      tmp=self.head\n",
        "      while(tmp.next!=None):\n",
        "        tmp=tmp.next\n",
        "      tmp.next=newnode\n",
        "    \n",
        "  def deleteoneatstart(self):\n",
        "    next=self.head.next\n",
        "    self.head=next\n",
        "\n",
        "  def deleteoneatend(self):\n",
        "    tmp=self.head\n",
        "    while(tmp.next.next!=None):\n",
        "      tmp=tmp.next\n",
        "    tmp.next=None\n",
        "\n",
        "  def deletenodeq(self,val):\n",
        "    tmp=self.head\n",
        "    if tmp.data==val:\n",
        "      self.deleteoneatstart()\n",
        "    else:\n",
        "      while(tmp.next.data!=val):\n",
        "        tmp=tmp.next\n",
        "      s=tmp.next.next\n",
        "      tmp.next=s\n",
        "\n",
        "  def sortll(self):\n",
        "    print('Pass for now')\n",
        "      \n",
        "\n",
        "  \n",
        "  def printll(self):\n",
        "    tmp=self.head\n",
        "    while(tmp!=None):\n",
        "      print(tmp.data,'-->',end='')\n",
        "      tmp=tmp.next\n",
        "\n",
        "\n"
      ],
      "metadata": {
        "id": "WjaAqAaT-Nxc"
      },
      "execution_count": null,
      "outputs": []
    },
    {
      "cell_type": "code",
      "source": [
        "ll=linkedlist()"
      ],
      "metadata": {
        "id": "VA6jQ-mPCaOb"
      },
      "execution_count": null,
      "outputs": []
    },
    {
      "cell_type": "code",
      "source": [
        "for i in range(0,100,10):\n",
        "  ll.insertatlast(i)\n",
        "  \n",
        "for i in range(100,0,10):\n",
        "  ll.insertatlast(i)\n"
      ],
      "metadata": {
        "id": "4l3nUt11CaFK"
      },
      "execution_count": null,
      "outputs": []
    },
    {
      "cell_type": "code",
      "source": [
        "ll.printll()"
      ],
      "metadata": {
        "id": "0JPaiT0ICZ-j",
        "colab": {
          "base_uri": "https://localhost:8080/"
        },
        "outputId": "b1579f01-5ccf-4ea3-b176-92f29e90238d"
      },
      "execution_count": null,
      "outputs": [
        {
          "output_type": "stream",
          "name": "stdout",
          "text": [
            "0 -->10 -->20 -->30 -->40 -->50 -->60 -->70 -->80 -->90 -->"
          ]
        }
      ]
    },
    {
      "cell_type": "code",
      "source": [
        "ll.deleteoneatstart()\n",
        "ll.deleteoneatend()"
      ],
      "metadata": {
        "id": "9ZZMa63YdNsG"
      },
      "execution_count": null,
      "outputs": []
    },
    {
      "cell_type": "code",
      "source": [
        "ll.printll()"
      ],
      "metadata": {
        "colab": {
          "base_uri": "https://localhost:8080/"
        },
        "id": "y5HE1hAwTgzt",
        "outputId": "546d0ff0-b493-4e10-90af-762242da9d6c"
      },
      "execution_count": null,
      "outputs": [
        {
          "output_type": "stream",
          "name": "stdout",
          "text": [
            "10 -->20 -->30 -->40 -->50 -->60 -->70 -->80 -->"
          ]
        }
      ]
    },
    {
      "cell_type": "code",
      "source": [
        "ll.deletenodeq(10)\n",
        "ll.printll()"
      ],
      "metadata": {
        "colab": {
          "base_uri": "https://localhost:8080/"
        },
        "id": "GtlzD-EmTnde",
        "outputId": "98a68f4a-3821-442c-9a44-e0e4d58fa069"
      },
      "execution_count": null,
      "outputs": [
        {
          "output_type": "stream",
          "name": "stdout",
          "text": [
            "20 -->30 -->40 -->50 -->60 -->70 -->80 -->"
          ]
        }
      ]
    },
    {
      "cell_type": "code",
      "source": [
        "class Node2:\n",
        "  def __init__(self,data):\n",
        "    self.data=data\n",
        "    self.prev=None\n",
        "    self.next=None"
      ],
      "metadata": {
        "id": "3FVio-zrYRG4"
      },
      "execution_count": null,
      "outputs": []
    },
    {
      "cell_type": "code",
      "source": [
        "class doublelinkedlist():\n",
        "  def __init__(self):\n",
        "    self.head=None\n",
        "\n",
        "  def insertatbegin(self,val):\n",
        "    newnode=Node2(val)\n",
        "    if self.head==None:\n",
        "      self.head=newnode\n",
        "    else:\n",
        "      self.head.prev=newnode\n",
        "      newnode.next=self.head\n",
        "      self.head=newnode\n",
        "\n",
        "  def insertatlast(self,val):\n",
        "    newnode=Node2(val)\n",
        "    if self.head==None:\n",
        "      self.head=newnode\n",
        "    else:\n",
        "      tmp=self.head\n",
        "      while(tmp.next!=None):\n",
        "        tmp=tmp.next\n",
        "      tmp.next=newnode\n",
        "      newnode.prev=tmp\n",
        "\n",
        "  def printdl(self):\n",
        "    tmp=self.head\n",
        "    while(tmp.next!=None):\n",
        "      print(tmp.data,'-->',end='')\n",
        "      tmp=tmp.next\n",
        "    print(tmp.data,'-->',end='')\n",
        "    print('\\nbackward')\n",
        "    while(tmp!=None):\n",
        "      print(tmp.data,'-->',end='')\n",
        "      tmp=tmp.prev\n",
        "\n",
        "  def deleteoneatstart(self):\n",
        "    if self.head==None:\n",
        "      print('List empty')\n",
        "    elif self.head.next==None:\n",
        "      self.head=None\n",
        "    else:\n",
        "      self.head.next.prev=None\n",
        "      self.head=self.head.next\n",
        "\n",
        "  def deletenodeq(self,val):\n",
        "    if self.head.data==val:\n",
        "      self.deleteoneatstart()\n",
        "    else:\n",
        "      tmp=self.head\n",
        "      while(tmp.data!=val):\n",
        "        tmp=tmp.next\n",
        "      tmp.prev.next=tmp.next\n",
        "      if tmp.next!=None:\n",
        "        tmp.next.prev=tmp.prev\n",
        "      \n",
        "\n",
        "\n",
        "\n",
        "\n",
        "      \n",
        "      \n",
        "        "
      ],
      "metadata": {
        "id": "pSFz8gvJW3yO"
      },
      "execution_count": null,
      "outputs": []
    },
    {
      "cell_type": "code",
      "source": [
        "dl=doublelinkedlist()"
      ],
      "metadata": {
        "id": "2tI8KO7E7mjq"
      },
      "execution_count": null,
      "outputs": []
    },
    {
      "cell_type": "code",
      "source": [
        "for i in range(0,100,10):\n",
        "  dl.insertatbegin(i)"
      ],
      "metadata": {
        "id": "v_rvsw8z8TpS"
      },
      "execution_count": null,
      "outputs": []
    },
    {
      "cell_type": "code",
      "source": [
        "for i in range(0,100,10):\n",
        "  dl.insertatlast(i)"
      ],
      "metadata": {
        "id": "joC5ofZy-oea"
      },
      "execution_count": null,
      "outputs": []
    },
    {
      "cell_type": "code",
      "source": [
        "for i in range(0,10):\n",
        "  dl.deleteoneatstart()"
      ],
      "metadata": {
        "id": "XYd6iEEH_gcs"
      },
      "execution_count": null,
      "outputs": []
    },
    {
      "cell_type": "code",
      "source": [
        "dl.printdl()"
      ],
      "metadata": {
        "colab": {
          "base_uri": "https://localhost:8080/"
        },
        "id": "t-VqDum-8bbS",
        "outputId": "b84cb92f-e096-4f02-d0a9-bcf94df90ef5"
      },
      "execution_count": null,
      "outputs": [
        {
          "output_type": "stream",
          "name": "stdout",
          "text": [
            "0 -->10 -->20 -->30 -->40 -->50 -->60 -->70 -->80 -->90 -->\n",
            "backward\n",
            "90 -->80 -->70 -->60 -->50 -->40 -->30 -->20 -->10 -->0 -->"
          ]
        }
      ]
    },
    {
      "cell_type": "code",
      "source": [
        "dl.deletenodeq(90)\n",
        "dl.printdl()"
      ],
      "metadata": {
        "colab": {
          "base_uri": "https://localhost:8080/"
        },
        "id": "Wi6SfXA687Bv",
        "outputId": "c20c7ea9-8a34-4ff1-a62c-e4b8992a0baa"
      },
      "execution_count": null,
      "outputs": [
        {
          "output_type": "stream",
          "name": "stdout",
          "text": [
            "0 -->10 -->20 -->30 -->40 -->50 -->60 -->70 -->80 -->\n",
            "backward\n",
            "80 -->70 -->60 -->50 -->40 -->30 -->20 -->10 -->0 -->"
          ]
        }
      ]
    },
    {
      "cell_type": "markdown",
      "source": [
        "##Binary Search Tree Implementation"
      ],
      "metadata": {
        "id": "B8gKdhEqlkiE"
      }
    },
    {
      "cell_type": "code",
      "source": [
        "class Treenode():\n",
        "  def __init__(self,val):\n",
        "    self.data=val\n",
        "    self.right=None\n",
        "    self.left=None\n",
        "    "
      ],
      "metadata": {
        "id": "jOgkaGnpB9m5"
      },
      "execution_count": 1,
      "outputs": []
    },
    {
      "cell_type": "code",
      "source": [
        "class BST():\n",
        "  def __init__(self):\n",
        "    self.root=None\n",
        "\n",
        "  def insert(self,val):\n",
        "    if self.root==None:\n",
        "      self.root=Treenode(val)\n",
        "    else:\n",
        "      self._insertbst(self.get_root(),val)\n",
        "\n",
        "  def get_root(self):\n",
        "    return self.root\n",
        "  \n",
        "  def _insertbst(self,root,val):\n",
        "    if root==None:\n",
        "      root=Treenode(val)\n",
        "    elif root.data<val:\n",
        "      root.right=self._insertbst(root.right,val)\n",
        "    elif root.data>val:\n",
        "      root.left=self._insertbst(root.left,val)\n",
        "    return root\n",
        "\n",
        "  def inorder(self):\n",
        "    self._inorderbst(self.get_root())\n",
        "\n",
        "  def _inorderbst(self,root):\n",
        "    if root==None:\n",
        "      return\n",
        "    else:\n",
        "      self._inorderbst(root.left)\n",
        "      print(root.data,'-',end='')\n",
        "      self._inorderbst(root.right)\n",
        "\n",
        "  def searchnode(self,val):\n",
        "    if self.root.data==val:\n",
        "      print('Found return ')\n",
        "      return 1\n",
        "    else:\n",
        "      self._searchbst(self.get_root(),val)\n",
        "\n",
        "  def _searchbst(self,root,val):\n",
        "    if root==None:\n",
        "      print('Not Found in Tree')\n",
        "      return 0\n",
        "    elif root.data==val:\n",
        "      print('Found the val')\n",
        "      return 1\n",
        "    elif root.data>val:\n",
        "      self._searchbst(root.left,val)\n",
        "    else:\n",
        "      self._searchbst(root.right,val)\n",
        "\n",
        "\n",
        "  #deletion functions\n",
        "\n",
        "\n",
        "  def deletenode(self,val):\n",
        "    if self.root==None:\n",
        "      print('Tree is empty')\n",
        "    else:\n",
        "      self.root=self.__removeNode(self.get_root(),val)\n",
        "\n",
        "  def __removeNode(self,root, val):\n",
        "    if root == None:\n",
        "        return None\n",
        "    if root.data < val:\n",
        "        root.right = self.__removeNode(root.right, val)\n",
        "    elif root.data > val:\n",
        "        root.left = self.__removeNode(root.left, val)\n",
        "    else:\n",
        "        if root.left == None and root.right == None:\n",
        "            return None\n",
        "        elif root.left == None:\n",
        "            return root.right\n",
        "        elif root.right == None:\n",
        "            return root.left\n",
        "        else:\n",
        "            rightMin = self.__getRightMin(root.right)\n",
        "            root.data = rightMin\n",
        "            root.right = self.__removeNode(root.right, rightMin)\n",
        "    return root\n",
        "\n",
        "  def __getRightMin(self,root):\n",
        "      temp = root\n",
        "\n",
        "      while temp.left != None:\n",
        "          temp = temp.left\n",
        "      \n",
        "      return temp.data\n",
        "\n",
        "    "
      ],
      "metadata": {
        "id": "Xu0V58bIqPju"
      },
      "execution_count": 105,
      "outputs": []
    },
    {
      "cell_type": "code",
      "source": [
        "import random\n",
        "random.seed(42)\n",
        "v=[]\n",
        "for i in range(0,10):\n",
        "  v.append(random.randint(0,100))"
      ],
      "metadata": {
        "id": "kIiYo9oVtkQl"
      },
      "execution_count": 106,
      "outputs": []
    },
    {
      "cell_type": "code",
      "source": [
        "v"
      ],
      "metadata": {
        "colab": {
          "base_uri": "https://localhost:8080/"
        },
        "id": "wrdNWeSV3aBU",
        "outputId": "7123368e-27e6-461e-f9bd-e6757dc7006c"
      },
      "execution_count": 107,
      "outputs": [
        {
          "output_type": "execute_result",
          "data": {
            "text/plain": [
              "[81, 14, 3, 94, 35, 31, 28, 17, 94, 13]"
            ]
          },
          "metadata": {},
          "execution_count": 107
        }
      ]
    },
    {
      "cell_type": "code",
      "source": [
        "bst=BST()\n",
        "for i in v:\n",
        "  bst.insert(i)\n",
        "bst.insert(45)"
      ],
      "metadata": {
        "id": "Hbx0z2H15Ngk"
      },
      "execution_count": 108,
      "outputs": []
    },
    {
      "cell_type": "code",
      "source": [
        "bst.inorder()"
      ],
      "metadata": {
        "colab": {
          "base_uri": "https://localhost:8080/"
        },
        "id": "Bl7EEQzZ5Zik",
        "outputId": "06553d57-14dc-4bd9-cec2-7ee82d69807a"
      },
      "execution_count": 109,
      "outputs": [
        {
          "output_type": "stream",
          "name": "stdout",
          "text": [
            "3 -13 -14 -17 -28 -31 -35 -45 -81 -94 -"
          ]
        }
      ]
    },
    {
      "cell_type": "code",
      "source": [
        "j=[i for i in range(0,10)]\n",
        "\n",
        "for k in j:\n",
        "  print(k,'-->',end='')\n",
        "  bst.searchnode(k)"
      ],
      "metadata": {
        "id": "hC0zvlcE8cJj",
        "colab": {
          "base_uri": "https://localhost:8080/"
        },
        "outputId": "6087b77b-b599-494a-fb9c-14597cd90371"
      },
      "execution_count": 110,
      "outputs": [
        {
          "output_type": "stream",
          "name": "stdout",
          "text": [
            "0 -->Not Found in Tree\n",
            "1 -->Not Found in Tree\n",
            "2 -->Not Found in Tree\n",
            "3 -->Found the val\n",
            "4 -->Not Found in Tree\n",
            "5 -->Not Found in Tree\n",
            "6 -->Not Found in Tree\n",
            "7 -->Not Found in Tree\n",
            "8 -->Not Found in Tree\n",
            "9 -->Not Found in Tree\n"
          ]
        }
      ]
    },
    {
      "cell_type": "code",
      "source": [
        "bst.inorder()"
      ],
      "metadata": {
        "colab": {
          "base_uri": "https://localhost:8080/"
        },
        "id": "KpLjmhooqAss",
        "outputId": "ac537fe7-cfd8-4bd4-8f02-4210d2929fba"
      },
      "execution_count": 111,
      "outputs": [
        {
          "output_type": "stream",
          "name": "stdout",
          "text": [
            "3 -13 -14 -17 -28 -31 -35 -45 -81 -94 -"
          ]
        }
      ]
    },
    {
      "cell_type": "code",
      "source": [
        "bst.deletenode(13)"
      ],
      "metadata": {
        "id": "RT_6zHDNqHyV"
      },
      "execution_count": 112,
      "outputs": []
    },
    {
      "cell_type": "code",
      "source": [
        "bst.inorder()"
      ],
      "metadata": {
        "colab": {
          "base_uri": "https://localhost:8080/"
        },
        "id": "Ez_D9NouqkFU",
        "outputId": "b2a567fa-8fca-4514-c517-e46bf734f8e3"
      },
      "execution_count": 113,
      "outputs": [
        {
          "output_type": "stream",
          "name": "stdout",
          "text": [
            "3 -14 -17 -28 -31 -35 -45 -81 -94 -"
          ]
        }
      ]
    },
    {
      "cell_type": "code",
      "source": [
        "bst.get_root().data"
      ],
      "metadata": {
        "colab": {
          "base_uri": "https://localhost:8080/"
        },
        "id": "cdxi0JZkooNr",
        "outputId": "68cd1a1d-c441-4971-fddd-6a661299c18f"
      },
      "execution_count": 114,
      "outputs": [
        {
          "output_type": "execute_result",
          "data": {
            "text/plain": [
              "81"
            ]
          },
          "metadata": {},
          "execution_count": 114
        }
      ]
    },
    {
      "cell_type": "code",
      "source": [
        "bst.deletenode(81)"
      ],
      "metadata": {
        "id": "qF_i7t6Sqhqc"
      },
      "execution_count": 116,
      "outputs": []
    },
    {
      "cell_type": "code",
      "source": [
        "bst.inorder()"
      ],
      "metadata": {
        "colab": {
          "base_uri": "https://localhost:8080/"
        },
        "id": "zUceNE4tqlTM",
        "outputId": "c0473be2-f2b2-4433-87aa-196d9cf0d4f7"
      },
      "execution_count": 118,
      "outputs": [
        {
          "output_type": "stream",
          "name": "stdout",
          "text": [
            "3 -14 -17 -28 -31 -35 -45 -94 -"
          ]
        }
      ]
    },
    {
      "cell_type": "markdown",
      "source": [
        "##GRAPHS\n",
        "\n",
        "####G={V,E}\n",
        "\n",
        "![image.png](data:image/png;base64,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)"
      ],
      "metadata": {
        "id": "8bBZFaDbui27"
      }
    },
    {
      "cell_type": "markdown",
      "source": [
        "Adjacency matix implementation"
      ],
      "metadata": {
        "id": "jcSrHiQ2xx6c"
      }
    },
    {
      "cell_type": "code",
      "source": [
        "V=[0,1,2,3,4]"
      ],
      "metadata": {
        "id": "qS4iD6bGuiOf"
      },
      "execution_count": 124,
      "outputs": []
    },
    {
      "cell_type": "code",
      "source": [
        "E=[[0 for i in range(len(V))]for j in range(len(V))]"
      ],
      "metadata": {
        "id": "OoD0pOVByMZW"
      },
      "execution_count": 168,
      "outputs": []
    },
    {
      "cell_type": "code",
      "source": [
        "E"
      ],
      "metadata": {
        "colab": {
          "base_uri": "https://localhost:8080/"
        },
        "id": "8Ce_QpfozaTK",
        "outputId": "0b7e1a5a-e3c9-47ad-b83a-1a2b5b0bf3e3"
      },
      "execution_count": 169,
      "outputs": [
        {
          "output_type": "execute_result",
          "data": {
            "text/plain": [
              "[[0, 0, 0, 0, 0],\n",
              " [0, 0, 0, 0, 0],\n",
              " [0, 0, 0, 0, 0],\n",
              " [0, 0, 0, 0, 0],\n",
              " [0, 0, 0, 0, 0]]"
            ]
          },
          "metadata": {},
          "execution_count": 169
        }
      ]
    },
    {
      "cell_type": "code",
      "source": [
        "# for indirected graph like above\n",
        "for i in range(0,5):\n",
        "  for j in range(0,5):\n",
        "    if i==4 :\n",
        "      if  j==1 or j==0 or j==3 :\n",
        "        E[i][j]=1"
      ],
      "metadata": {
        "id": "8KnROrGszbck"
      },
      "execution_count": 184,
      "outputs": []
    },
    {
      "cell_type": "code",
      "source": [
        "print('Adjacency Matrix')\n",
        "E"
      ],
      "metadata": {
        "colab": {
          "base_uri": "https://localhost:8080/"
        },
        "id": "TK4V3BeazySg",
        "outputId": "c802bf7d-d1e9-4571-9cbb-a85ff9488989"
      },
      "execution_count": 186,
      "outputs": [
        {
          "output_type": "stream",
          "name": "stdout",
          "text": [
            "Adjacency Matrix\n"
          ]
        },
        {
          "output_type": "execute_result",
          "data": {
            "text/plain": [
              "[[0, 1, 0, 0, 1],\n",
              " [1, 0, 1, 1, 1],\n",
              " [0, 1, 0, 1, 0],\n",
              " [0, 1, 1, 0, 1],\n",
              " [1, 1, 0, 1, 0]]"
            ]
          },
          "metadata": {},
          "execution_count": 186
        }
      ]
    },
    {
      "cell_type": "code",
      "source": [
        "class Graph:\n",
        "  def __init__(self,ver):\n",
        "    self.adjmatrix=[[0 for i in range(ver)] for j in range(ver)]\n",
        "    self.ver=ver\n",
        "\n",
        "  def show_matrix(self):\n",
        "    for i in self.adjmatrix:\n",
        "      print(i)\n",
        "\n",
        "  def add_edge(self,fr:int,to:int):\n",
        "    self.adjmatrix[fr][to]=1\n",
        "\n",
        "  def rem_edge(self,fr:int,to:int):\n",
        "    self.adjmatrix[fr][to]=0\n",
        "\n",
        "  \n"
      ],
      "metadata": {
        "id": "r87aoxXQ0TSj"
      },
      "execution_count": 208,
      "outputs": []
    },
    {
      "cell_type": "code",
      "source": [
        "graph=Graph(5)"
      ],
      "metadata": {
        "id": "y0YNxkX_56xI"
      },
      "execution_count": 203,
      "outputs": []
    },
    {
      "cell_type": "code",
      "source": [
        "graph.add_edge(0,1)\n",
        "graph.add_edge(0,2)\n",
        "graph.add_edge(0,3)\n",
        "graph.add_edge(1,3)\n",
        "graph.add_edge(1,4)\n",
        "graph.add_edge(2,3)\n",
        "graph.add_edge(3,4)"
      ],
      "metadata": {
        "id": "4TLiwqA05-EV"
      },
      "execution_count": 206,
      "outputs": []
    },
    {
      "cell_type": "code",
      "source": [
        "graph.show_matrix()"
      ],
      "metadata": {
        "colab": {
          "base_uri": "https://localhost:8080/"
        },
        "id": "ON_Uo5MK6OP7",
        "outputId": "4e5b1bba-f4d7-41e9-fb59-4a98017619b1"
      },
      "execution_count": 207,
      "outputs": [
        {
          "output_type": "stream",
          "name": "stdout",
          "text": [
            "[0, 1, 1, 1, 0]\n",
            "[0, 0, 0, 1, 1]\n",
            "[0, 0, 0, 1, 0]\n",
            "[0, 0, 0, 0, 1]\n",
            "[0, 0, 0, 0, 0]\n"
          ]
        }
      ]
    },
    {
      "cell_type": "code",
      "source": [],
      "metadata": {
        "id": "a20wrppI6aUr"
      },
      "execution_count": 201,
      "outputs": []
    }
  ]
}